{
 "cells": [
  {
   "cell_type": "markdown",
   "metadata": {},
   "source": [
    "\n",
    "# ***Ohm's Law***\n"
   ]
  },
  {
   "cell_type": "markdown",
   "metadata": {},
   "source": [
    "<p>&nbsp;</p>\n",
    "\n",
    "## Learning goals\n",
    "\n",
    "After doing this lesson you should be able to:\n",
    "\n",
    "1. Define what each variable of the Ohm's Law equation stands for.\n",
    "2. Create a dataframe, use the dataframe for creating plots, and use the dataframe to perform calculations for variables in the Ohm's Law equation.\n",
    "3. Visualize Ohm's Law graphically.\n",
    "\n",
    "<p>&nbsp;</p>\n",
    "\n",
    "## Background\n",
    "\n",
    "Ohm's Law is a fundamental law for the study of electrical circuits. The equation formulated by Georg Simon Ohm is:\n"
   ]
  },
  {
   "cell_type": "markdown",
   "metadata": {},
   "source": [
    "\\begin{align}\n",
    "\\Large R =\\frac{V}{I}\n",
    "\\end{align}"
   ]
  },
  {
   "cell_type": "markdown",
   "metadata": {},
   "source": [
    "In this equation:\n",
    "\n",
    "> $I$ is current and it is measured in Amperes.\n",
    "> $V$ is the electric potential difference between two points and it is measured in Volts.\n",
    "> $R$ is a measurement of how a material oposes the flow of an electric current and it is measured in Omhs. \n",
    "> You can re-express the equation by rearranging the variables above.\n",
    "\n",
    "To have an electrical current ($I$) flow through a circuit you must apply a $V$, which would mean that you need a potential difference between the two points (start point / end point) that you are measuring in your system. That way you can have free charges that are able to move from the start point of your circuit to the end point of your circuit. Since $V$ helps $I$ exist, then any changes in $V$ will affect the $I$ of a system (there is a directly proportional relationship between $V$ and $I$). If we rearrange Ohm's Law we can show this: \n",
    "\n"
   ]
  },
  {
   "cell_type": "markdown",
   "metadata": {},
   "source": [
    "\\begin{align}\n",
    "\\Large I = \\frac{V}{R}\n",
    "\\end{align}"
   ]
  },
  {
   "cell_type": "markdown",
   "metadata": {},
   "source": [
    "\n",
    "If $V$ becomes bigger it will drive $I$ to be bigger as well. This is possible because the $R$ or resistance you measure from the start point to the end point of the system remains constant through the circuit.\n",
    "\n",
    "$R$ is controlled by all of the resistors (the sum of them) between the two measured points used to get the electric potential difference. A resistor is an electrical component that limits the flow of an electrical current. Given so, the resistance would be a measurement of the opposition to a current flow in an electrical circuit. So, when the resistance of the circuit increases the current flowing through that system (if the potential difference or $V$ remains constant) will decrease. This is shown by the inverse proportional relationship between resistance and current:\n"
   ]
  },
  {
   "cell_type": "markdown",
   "metadata": {},
   "source": [
    "\\begin{align}\n",
    "\\Large R =\\frac{V}{I}\n",
    "\\end{align}"
   ]
  },
  {
   "cell_type": "markdown",
   "metadata": {},
   "source": [
    "If $R$ increases then $I$ would have to decrease to maintain this mathematical relationship.\n"
   ]
  },
  {
   "cell_type": "markdown",
   "metadata": {},
   "source": [
    "<p>&nbsp;</p>"
   ]
  },
  {
   "cell_type": "markdown",
   "metadata": {},
   "source": [
    "## Examples\n",
    "\n",
    "### Graphical visualization and creating dataframes\n",
    "\n",
    "You can represent the Ohm's Law equation *graphically*:\n"
   ]
  },
  {
   "cell_type": "code",
   "execution_count": null,
   "metadata": {},
   "outputs": [],
   "source": [
    "# Importing libraries\n",
    "import numpy as np\n",
    "import pandas as pd\n",
    "import matplotlib.pyplot as plt"
   ]
  },
  {
   "cell_type": "code",
   "execution_count": null,
   "metadata": {},
   "outputs": [],
   "source": [
    "# For this dataframe we will make a table with six voltage values and six current values. The dataframe will have a V column and an I column, and six rows.\n",
    "# Declaring my variables to create a sequence of numbers\n",
    "# Note below (in the next chunk of code) that the sequence does not include the end part of the range of numbers (v_stop or i_stop)\n",
    "\n",
    "v_start = 0.5\n",
    "v_stop = 3.5\n",
    "v_step = 0.5\n",
    "\n",
    "i_start = 0.005\n",
    "i_stop = 0.035\n",
    "i_step = 0.005"
   ]
  },
  {
   "cell_type": "code",
   "execution_count": null,
   "metadata": {},
   "outputs": [],
   "source": [
    "# Making my voltage data\n",
    "# Creates a sequence of six numbers that starts with 0.5 and ends with 3, with an increment of 0.5 from each number. So, 0.5, 1.0, 1.5...\n",
    "yaxis_v = np.arange(v_start, v_stop, v_step)\n",
    "\n",
    "# Making my current data\n",
    "# Creates a sequence of six numbers that starts with 0.005 and ends with 0.030, with an increment of 0.005 from each number. So, 0.005, 0.010, 0.015...\n",
    "xaxis_i = np.arange(i_start, i_stop, i_step)\n",
    "\n",
    "# Joining my data using dictionaries and assigning my voltage data and current data names (keys)\n",
    "d = {'y_axis': yaxis_v, 'x_axis':xaxis_i}\n",
    "\n",
    "# Converting dictionary to dataframe\n",
    "df = pd.DataFrame(data = d)\n",
    "\n",
    "# Shows our dataframe\n",
    "df"
   ]
  },
  {
   "cell_type": "code",
   "execution_count": null,
   "metadata": {},
   "outputs": [],
   "source": [
    "# Creating the plot\n",
    "\n",
    "plt.plot(xaxis_i, yaxis_v)\n",
    "plt.xlabel('Current (Amperes)')\n",
    "plt.ylabel('Voltage (Volts)')\n",
    "plt.title('Voltage vs. Current');\n"
   ]
  },
  {
   "cell_type": "markdown",
   "metadata": {},
   "source": [
    "<p>&nbsp;</p>\n",
    "\n",
    "### Calculating Resistance using our existing dataframe and showing R is constant\n",
    "\n",
    "If we use the data from the dataframe we created above we can calculate $R$ for every correspondent $V$ and $I$ value. You will notice below, that the $R$ remains constant which matches the slope represented by the graph we created above. If we get the slope of the line graph above we will get the same $R$ value that we get by using the Ohm's Law equation:\n",
    "\n",
    "\\begin{align}\n",
    "R = \\frac{V}{I} \n",
    "\\end{align}\n",
    "\n",
    "If point 2 of the line graph we plotted are the $V$ and $I$ values of the sixth row of our dataframe and point 1 of the line graph we plotted are the values from the first row of our data frame. We can calculate the slope of the line using this equation:\n",
    "\n",
    "\\begin{align}\n",
    "R = \\frac{V_{2}-V_{1}}{I_{2}-I_{1}}\\\n",
    "\\end{align}\n",
    "\n",
    "which would be:\n",
    "\n",
    "\\begin{align}\n",
    "R = \\frac{3-0.5}{0.030-0.005}\\ = 100 \\hspace{0.1cm} Ohms\n",
    "\\end{align}"
   ]
  },
  {
   "cell_type": "markdown",
   "metadata": {},
   "source": [
    "And if we use the Ohm's Law equation to calculate $R$ using our dataframe we can see that it is the same as the one calculated above (using the slope):"
   ]
  },
  {
   "cell_type": "code",
   "execution_count": null,
   "metadata": {},
   "outputs": [],
   "source": [
    "# Calculating resistance\n",
    "res = yaxis_v/xaxis_i\n",
    "# Adding resistance value to our dataframe\n",
    "df['Resistance'] = res"
   ]
  },
  {
   "cell_type": "markdown",
   "metadata": {},
   "source": [
    "This calculation emulates this equation: \n",
    "\\begin{align}\n",
    "R = \\frac{V}{I} \n",
    "\\end{align}"
   ]
  },
  {
   "cell_type": "code",
   "execution_count": null,
   "metadata": {},
   "outputs": [],
   "source": [
    "# Shows our dataframe with calculated resistance\n",
    "df"
   ]
  },
  {
   "cell_type": "markdown",
   "metadata": {},
   "source": [
    "<p>&nbsp;</p>\n",
    "___________________________________________________________________________________________________________\n",
    "\n",
    "<p>&nbsp;</p>\n",
    "\n",
    "## Questions\n",
    "<p>&nbsp;</p>\n",
    "\n",
    "1. In Ohm's Law $R$ represents the (*fill in the blank*) in Ohms.\n",
    "<p>&nbsp;</p>\n",
    "2. Rearrange the Ohm's Law equation to solve for $I$. What would this equation imply? Explain the variables in the equation. \n",
    "<p>&nbsp;</p>\n",
    "3. What is the kind of relationship between $V$ and $I$ graphically for Ohm's Law? What does the slope represent?\n",
    "<p>&nbsp;</p>\n",
    "4. Apply your dataframe and plotting knowledge. Create a dataframe using this rearranged version of Omh's Law $V=IR$. The dataframe's $R$ variable should have 6 values that are all 10 (look up the numpy repeat function to do this). The $I$ variable should go from 0 to 1000 incrementing by 200. Calculate $V$ for every row in your dataframe using the equation above. Add the results of $V$ as a new column in your dataframe. Use your new $V$ values alongside the $I$ values to make a plot showing the relationship $R=V/I$.\n",
    "\n",
    "\n"
   ]
  }
 ],
 "metadata": {
  "kernelspec": {
   "display_name": "Python 3",
   "language": "python",
   "name": "python3"
  },
  "language_info": {
   "codemirror_mode": {
    "name": "ipython",
    "version": 3
   },
   "file_extension": ".py",
   "mimetype": "text/x-python",
   "name": "python",
   "nbconvert_exporter": "python",
   "pygments_lexer": "ipython3",
   "version": "3.7.7"
  }
 },
 "nbformat": 4,
 "nbformat_minor": 4
}
