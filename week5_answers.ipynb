{
 "cells": [
  {
   "cell_type": "markdown",
   "metadata": {},
   "source": [
    "# _Questions and Answers_\n",
    "\n",
    "## Questions\n",
    "\n",
    "1. In Ohm's Law $R$ represents the (*fill in the blank*) in Ohms.\n",
    "\n",
    "2. Rearrange the Ohm's Law equation to solve for $I$. What would this equation imply? Explain the variables in the equation. \n",
    "\n",
    "3. What is the kind of relationship between $V$ and $I$ graphically for Ohm's Law? What does the slope represent?\n",
    "\n",
    "4. Apply your dataframe and plotting knowledge. Create a dataframe using this rearranged version of Omh's Law $V=IR$. The dataframe's $R$ variable should have 6 values that are all 10 (look up the numpy repeat function to do this). The $I$ variable should go from 0 to 1000 incrementing by 200. Calculate $V$ for every row in your dataframe using the equation above. Add the results of $V$ as a new column in your dataframe. Use your new $V$ values alongside the $I$ values to make a plot showing the relationship $R=V/I$.\n",
    "\n",
    "\n",
    "\n",
    "### Question 1\n",
    "\n",
    "1. In Ohm's Law $R$ represents the (*fill in the blank*) in Ohms.\n",
    "\n",
    "### Answer 1\n",
    "\n",
    "Resistance\n",
    "\n",
    "______________________________________________________________________________________\n",
    "\n",
    "### Question 2\n",
    "\n",
    "2. Rearrange the Ohm's Law equation to solve for $I$. What would this equation imply? Explain the variables in the equation. \n",
    "\n",
    "### Answer 2\n",
    "\n",
    "\\begin{align}\n",
    "I = \\frac{V}{R} \n",
    "\\end{align}\n",
    "\n",
    "It would imply that the current of a system is represented by change in voltage between two points of the system divided by the resistance of the whole system.\n",
    "\n",
    "> $I$ is current and it is measured in Amperes.\n",
    "> $V$ is the electric potential difference between two points and it is measured in Volts.\n",
    "> $R$ is a measurement of how a material oposes the flow of an electric current and it is measured in Omhs.\n",
    "______________________________________________________________________________________\n",
    "\n",
    "### Question 3\n",
    "\n",
    "3. What is the kind of relationship between $V$ and $I$ graphically for Ohm's Law? What does the slope represent?\n",
    "\n",
    "### Answer 3\n",
    "\n",
    "The relationship between $V$ and $I$ graphically is a linear relationship. The slope of this line represent the resistance of the system.\n",
    "\n",
    "______________________________________________________________________________________\n",
    "\n",
    "### Question 4\n",
    "\n",
    "4. Apply your dataframe and plotting knowledge. Create a dataframe using this rearranged version of Omh's Law $V=IR$. The dataframe's $R$ variable should have 6 values that are all 10 (look up the numpy repeat function to do this). The $I$ variable should go from 0 to 1000 incrementing by 200. Calculate $V$ for every row in your dataframe using the equation above. Add the results of $V$ as a new column in your dataframe. Use your new $V$ values alongside the $I$ values to make a plot showing the relationship $R=V/I$.\n",
    "\n",
    "\n",
    "### Answer 4"
   ]
  },
  {
   "cell_type": "code",
   "execution_count": null,
   "metadata": {},
   "outputs": [],
   "source": [
    "# Importing libraries\n",
    "import numpy as np\n",
    "import pandas as pd\n",
    "import matplotlib.pyplot as plt"
   ]
  },
  {
   "cell_type": "code",
   "execution_count": null,
   "metadata": {},
   "outputs": [],
   "source": [
    "# How to create the dataframe\n",
    "\n",
    "# Making my resistance data\n",
    "res = np.repeat(10, 6)\n",
    "\n",
    "# Making my current data\n",
    "cur = np.arange(0, 1200, 200)\n",
    "\n",
    "# Joining my data using dictionaries and assigning my voltage data and current data names (keys)\n",
    "d = {'Resistance': res, 'Current':cur}\n",
    "\n",
    "# Converting dictionary to dataframe\n",
    "df = pd.DataFrame(data = d)\n",
    "\n",
    "# Shows our dataframe\n",
    "df"
   ]
  },
  {
   "cell_type": "code",
   "execution_count": null,
   "metadata": {},
   "outputs": [],
   "source": [
    "# Calculating voltage\n",
    "vol = res*cur\n",
    "# Adding voltage value to our dataframe\n",
    "df['Voltage'] = vol\n",
    "\n",
    "# Shows our dataframe\n",
    "df"
   ]
  },
  {
   "cell_type": "code",
   "execution_count": null,
   "metadata": {},
   "outputs": [],
   "source": [
    "# Creating the plot\n",
    "\n",
    "plt.plot(cur, vol)\n",
    "plt.xlabel('Current (Amperes)')\n",
    "plt.ylabel('Voltage (Volts)')\n",
    "plt.title('Voltage vs. Current');\n"
   ]
  }
 ],
 "metadata": {
  "kernelspec": {
   "display_name": "Python 3",
   "language": "python",
   "name": "python3"
  },
  "language_info": {
   "codemirror_mode": {
    "name": "ipython",
    "version": 3
   },
   "file_extension": ".py",
   "mimetype": "text/x-python",
   "name": "python",
   "nbconvert_exporter": "python",
   "pygments_lexer": "ipython3",
   "version": "3.7.7"
  }
 },
 "nbformat": 4,
 "nbformat_minor": 4
}
